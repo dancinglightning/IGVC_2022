{
 "cells": [
  {
   "cell_type": "markdown",
   "id": "ea9d5fce",
   "metadata": {},
   "source": [
    "## __Control Node 2.0__ 🤖\n",
    "#### _Mission IGVC 2023_"
   ]
  },
  {
   "cell_type": "markdown",
   "id": "74a2cd1a",
   "metadata": {},
   "source": [
    "<font size=\"2\">\n",
    "\n",
    "Node execution sequence:\n",
    "- igvc_self_drive_gazebo load_task_world.launch - launches world (arena)\n",
    "- roslaunch igvc_self_drive_gazebo spawn_gem.launch - launches car\n",
    "- rosrun igvc_self_drive_gazebo lane_det2.py - lane detection by cv\n",
    "- roslaunch point_cloud_to_laserscan point_cloud_to_laserscan.launch - point cloud to laser scan done by localisation\n",
    "- roslaunch gridmap fusion - produces gridmap by fusing inputs from cv and localisation\n",
    "- roslaunch hybrid_astar manual.launch - path planner execution\n",
    "- rosrun velocity_plan vel_arr_basic - velocity planner execution\n",
    "- rosrun nmpc control_node2.py\n",
    "\n",
    "Note:\n",
    "- run 'jupytext --sync control_node2.ipynb' everytime after saving"
   ]
  },
  {
   "cell_type": "markdown",
   "id": "7c40a9b9",
   "metadata": {},
   "source": [
    "##### Package Imports"
   ]
  },
  {
   "cell_type": "code",
   "execution_count": 1,
   "id": "261a9142",
   "metadata": {},
   "outputs": [
    {
     "ename": "NameError",
     "evalue": "name 'rospy' is not defined",
     "output_type": "error",
     "traceback": [
      "\u001b[1;31m---------------------------------------------------------------------------\u001b[0m",
      "\u001b[1;31mNameError\u001b[0m                                 Traceback (most recent call last)",
      "\u001b[1;32mc:\\Users\\Yoru\\Documents\\GitHub\\igvc_2022\\controller_ws\\src\\nmpc\\src\\control_node2.ipynb Cell 4'\u001b[0m in \u001b[0;36m<cell line: 13>\u001b[1;34m()\u001b[0m\n\u001b[0;32m     <a href='vscode-notebook-cell:/c%3A/Users/Yoru/Documents/GitHub/igvc_2022/controller_ws/src/nmpc/src/control_node2.ipynb#ch0000003?line=10'>11</a>\u001b[0m \u001b[39mfrom\u001b[39;00m \u001b[39mcasadi\u001b[39;00m \u001b[39mimport\u001b[39;00m \u001b[39m*\u001b[39m\n\u001b[0;32m     <a href='vscode-notebook-cell:/c%3A/Users/Yoru/Documents/GitHub/igvc_2022/controller_ws/src/nmpc/src/control_node2.ipynb#ch0000003?line=11'>12</a>\u001b[0m sys\u001b[39m.\u001b[39mpath\u001b[39m.\u001b[39mappend(\u001b[39m'\u001b[39m\u001b[39m../../\u001b[39m\u001b[39m'\u001b[39m)\n\u001b[1;32m---> <a href='vscode-notebook-cell:/c%3A/Users/Yoru/Documents/GitHub/igvc_2022/controller_ws/src/nmpc/src/control_node2.ipynb#ch0000003?line=12'>13</a>\u001b[0m rospy\u001b[39m.\u001b[39minit_node(\u001b[39m'\u001b[39m\u001b[39mcontrol_node\u001b[39m\u001b[39m'\u001b[39m)\n\u001b[0;32m     <a href='vscode-notebook-cell:/c%3A/Users/Yoru/Documents/GitHub/igvc_2022/controller_ws/src/nmpc/src/control_node2.ipynb#ch0000003?line=13'>14</a>\u001b[0m \u001b[39mimport\u001b[39;00m \u001b[39mrospy\u001b[39;00m\n\u001b[0;32m     <a href='vscode-notebook-cell:/c%3A/Users/Yoru/Documents/GitHub/igvc_2022/controller_ws/src/nmpc/src/control_node2.ipynb#ch0000003?line=14'>15</a>\u001b[0m \u001b[39mfrom\u001b[39;00m \u001b[39mstd_msgs\u001b[39;00m\u001b[39m.\u001b[39;00m\u001b[39mmsg\u001b[39;00m \u001b[39mimport\u001b[39;00m Float64MultiArray\n",
      "\u001b[1;31mNameError\u001b[0m: name 'rospy' is not defined"
     ]
    }
   ],
   "source": [
    "#!/usr/bin/env python\n",
    "from io import StringIO\n",
    "import numpy as np\n",
    "import sys\n",
    "import os\n",
    "import do_mpc\n",
    "from do_mpc.data import *\n",
    "import matplotlib.pyplot as plt\n",
    "from matplotlib import rcParams\n",
    "import pickle\n",
    "from casadi import *\n",
    "sys.path.append('../../')\n",
    "rospy.init_node('control_node')\n",
    "import rospy\n",
    "from std_msgs.msg import Float64MultiArray\n",
    "from std_msgs.msg import Float32\n",
    "# from geometry_msgs.msg import PoseStamped\n",
    "# from nav_msgs.msg import OccupancyGrid\n",
    "from nav_msgs.msg import Path\n",
    "from std_msgs.msg import String\n",
    "from std_msgs.msg import Bool\n",
    "from nav_msgs.msg import Path\n",
    "from std_msgs.msg import UInt8\n",
    "from std_msgs.msg import Float64\n",
    "from geometry_msgs.msg import Point\n",
    "from geometry_msgs.msg import Pose2D\n",
    "from sensor_msgs.msg import Imu\n",
    "from gazebo_msgs.msg import ModelStates"
   ]
  },
  {
   "cell_type": "markdown",
   "id": "2670c7d5",
   "metadata": {},
   "source": [
    "##### Model variables"
   ]
  },
  {
   "cell_type": "code",
   "execution_count": 2,
   "id": "3b95a605",
   "metadata": {},
   "outputs": [],
   "source": [
    "# Model variables\n",
    "model_type = 'continuous'\n",
    "global J, La, Lb, m, Cy, t_s, N, N_ref\n",
    "J = 375            # moment of interia\n",
    "La = 1.2           # distance of front tires from COM in m\n",
    "Lb = 1.2           # distance of back tires from COM in m\n",
    "m = 200            # mass of vehicle in kg\n",
    "Cy = 0.1           # Tyre stiffness constant\n",
    "t_s = 0.1          # sample time\n",
    "N = 70             # Horizon\n",
    "N_ref = 30         # control iterations"
   ]
  },
  {
   "cell_type": "markdown",
   "id": "ea454c78",
   "metadata": {},
   "source": [
    "##### Control variables"
   ]
  },
  {
   "cell_type": "code",
   "execution_count": 3,
   "id": "2a4fa324",
   "metadata": {},
   "outputs": [],
   "source": [
    "# variables for control execution\n",
    "global velocities, path_points, c, packed, x_0, v_0, steer_0, z_sim\n",
    "global conversion_matrix_x, conversion_matrix_y, conversion_matrix_v\n",
    "velocities = [1.5]                                         # array to store velocities\n",
    "path_points = []                                           # array to store the path\n",
    "c = 1\n",
    "packed = [velocities, c]\n",
    "x_initial = np.vstack(([0], [0], [0], [1.5], [0], [0], [0]))   # intial state vector\n",
    "x_0 = x_initial\n",
    "v_0 = 0\n",
    "steer_0 = 0\t                                               # variable to store the curent state vector \n",
    "z_sim = 0\n",
    "\n",
    "conversion_matrix_x = np.zeros((8,1))\n",
    "conversion_matrix_y = np.zeros((8,1))\n",
    "conversion_matrix_v = np.zeros((8,1))"
   ]
  },
  {
   "cell_type": "markdown",
   "id": "c0dc01c4",
   "metadata": {},
   "source": [
    "##### ROS variables"
   ]
  },
  {
   "cell_type": "code",
   "execution_count": null,
   "id": "65f748a6",
   "metadata": {},
   "outputs": [
    {
     "ename": "NameError",
     "evalue": "name 'rospy' is not defined",
     "output_type": "error",
     "traceback": [
      "\u001b[1;31m---------------------------------------------------------------------------\u001b[0m",
      "\u001b[1;31mNameError\u001b[0m                                 Traceback (most recent call last)",
      "\u001b[1;32mc:\\Users\\Yoru\\Documents\\GitHub\\igvc_2022\\controller_ws\\src\\nmpc\\src\\control_node2.ipynb Cell 10'\u001b[0m in \u001b[0;36m<cell line: 2>\u001b[1;34m()\u001b[0m\n\u001b[0;32m      <a href='vscode-notebook-cell:/c%3A/Users/Yoru/Documents/GitHub/igvc_2022/controller_ws/src/nmpc/src/control_node2.ipynb#ch0000009?line=0'>1</a>\u001b[0m \u001b[39m# ROS variables\u001b[39;00m\n\u001b[1;32m----> <a href='vscode-notebook-cell:/c%3A/Users/Yoru/Documents/GitHub/igvc_2022/controller_ws/src/nmpc/src/control_node2.ipynb#ch0000009?line=1'>2</a>\u001b[0m acc_pub \u001b[39m=\u001b[39m rospy\u001b[39m.\u001b[39mPublisher(\u001b[39m'\u001b[39m\u001b[39m/throttle_cmd\u001b[39m\u001b[39m'\u001b[39m, Float64, queue_size\u001b[39m=\u001b[39m\u001b[39m10\u001b[39m)\n\u001b[0;32m      <a href='vscode-notebook-cell:/c%3A/Users/Yoru/Documents/GitHub/igvc_2022/controller_ws/src/nmpc/src/control_node2.ipynb#ch0000009?line=2'>3</a>\u001b[0m brake_pub \u001b[39m=\u001b[39m rospy\u001b[39m.\u001b[39mPublisher(\u001b[39m'\u001b[39m\u001b[39m/brake_cmd\u001b[39m\u001b[39m'\u001b[39m, Float64, queue_size\u001b[39m=\u001b[39m\u001b[39m10\u001b[39m)\n\u001b[0;32m      <a href='vscode-notebook-cell:/c%3A/Users/Yoru/Documents/GitHub/igvc_2022/controller_ws/src/nmpc/src/control_node2.ipynb#ch0000009?line=3'>4</a>\u001b[0m steer_pub \u001b[39m=\u001b[39m rospy\u001b[39m.\u001b[39mPublisher(\u001b[39m'\u001b[39m\u001b[39m/steer_cmd\u001b[39m\u001b[39m'\u001b[39m, Float64, queue_size\u001b[39m=\u001b[39m\u001b[39m10\u001b[39m)\n",
      "\u001b[1;31mNameError\u001b[0m: name 'rospy' is not defined"
     ]
    },
    {
     "ename": "",
     "evalue": "",
     "output_type": "error",
     "traceback": [
      "\u001b[1;31mRunning cells with 'Python 2.7.1 64-bit' requires ipykernel package.\n",
      "Run the following command to install 'ipykernel' into the Python environment. \n",
      "Command: 'd:/Python27/python.exe -m pip install ipykernel -U --user --force-reinstall'"
     ]
    }
   ],
   "source": [
    "# ROS variables\n",
    "acc_pub = rospy.Publisher('/throttle_cmd', Float64, queue_size=10)\n",
    "brake_pub = rospy.Publisher('/brake_cmd', Float64, queue_size=10)\n",
    "steer_pub = rospy.Publisher('/steer_cmd', Float64, queue_size=10)\n",
    "gear_pub = rospy.Publisher('/gear_cmd', UInt8, queue_size=10)\n",
    "rate = rospy.Rate(10)\n",
    "path_sub = rospy.Subscriber(\"/path\", Path, path_callback)\n",
    "vel_sub = rospy.Subscriber(\"/best_velocity\", Float64MultiArray,vel_callback)\n",
    "state_sub = rospy.Subscriber(\"/gazebo/model_states\", ModelStates, state_callback)\n",
    "steer_sub = rospy.Subscriber(\"/current_steer_angle\", Float64, steer_callback)"
   ]
  },
  {
   "cell_type": "markdown",
   "id": "7a4073c2",
   "metadata": {},
   "source": [
    "##### Functions for interpolation of MP path points"
   ]
  },
  {
   "cell_type": "code",
   "execution_count": null,
   "id": "71e5e97e",
   "metadata": {},
   "outputs": [
    {
     "ename": "",
     "evalue": "",
     "output_type": "error",
     "traceback": [
      "\u001b[1;31mRunning cells with 'Python 2.7.1 64-bit' requires ipykernel package.\n",
      "Run the following command to install 'ipykernel' into the Python environment. \n",
      "Command: 'd:/Python27/python.exe -m pip install ipykernel -U --user --force-reinstall'"
     ]
    }
   ],
   "source": [
    "def linear_regression(x, n=0, lamda=0):\n",
    "        n = len(x)\n",
    "        z0 = np.array([1 for i in range(n)])\n",
    "        z1 = np.array([i+1 for i in range(n)])\n",
    "        z2 = z1**2\n",
    "        z3 = z1**3\n",
    "        z4 = z1**4\n",
    "        z5 = z1**5\n",
    "        z6 = z1**6\n",
    "        z7 = z1**7\n",
    "        z = np.vstack((z0, z1, z2, z3, z4, z5, z6, z7)).T\n",
    "        return np.dot(np.linalg.pinv(np.dot(z.T,z)),(np.dot(z.T,x)))\n",
    "\n",
    "def lin_val_x(z):\n",
    "    conversion_matrix_x = linear_regression(z)\n",
    "\n",
    "def lin_val_y(z):\n",
    "    conversion_matrix_y = linear_regression(z)\n",
    "\n",
    "def lin_val_v(z):\n",
    "    conversion_matrix_v = linear_regression(z)\n",
    "\n",
    "def x_z(z):\n",
    "    c = conversion_matrix_x\n",
    "    a = c[0]*1 + c[1]*z + c[2]*z**2 + c[3]*z**3 + c[4]*z**4 + c[5]*z**5 +c[6]*z**6 +c[7]*z**7 \n",
    "    return a\n",
    "\n",
    "def y_z(z):\n",
    "    c = conversion_matrix_y\n",
    "    a = c[0]*1 + c[1]*z + c[2]*z**2 + c[3]*z**3 + c[4]*z**4 + c[5]*z**5 +c[6]*z**6 +c[7]*z**7 \n",
    "    return a\n",
    "\n",
    "def v_z(z):\n",
    "    c = conversion_matrix_v\n",
    "    a = c[0]*1 + c[1]*z + c[2]*z**2 + c[3]*z**3 + c[4]*z**4 + c[5]*z**5 +c[6]*z**6 +c[7]*z**7 \n",
    "    return a"
   ]
  },
  {
   "cell_type": "markdown",
   "id": "1918dca5",
   "metadata": {},
   "source": [
    "##### Model Setup"
   ]
  },
  {
   "cell_type": "code",
   "execution_count": null,
   "id": "4ab3ba3e",
   "metadata": {},
   "outputs": [
    {
     "ename": "",
     "evalue": "",
     "output_type": "error",
     "traceback": [
      "\u001b[1;31mRunning cells with 'Python 2.7.1 64-bit' requires ipykernel package.\n",
      "Run the following command to install 'ipykernel' into the Python environment. \n",
      "Command: 'd:/Python27/python.exe -m pip install ipykernel -U --user --force-reinstall'"
     ]
    }
   ],
   "source": [
    "# Obtain an instance of the do-mpc model class\n",
    "model = do_mpc.model.Model(model_type)\n",
    "\n",
    "# States variables of the model\n",
    "xc = model.set_variable(var_type='_x',var_name='xc')            # x position\n",
    "yc = model.set_variable(var_type='_x',var_name='yc')            # y position\n",
    "v = model.set_variable(var_type='_x',var_name='v')              # velocity\n",
    "theta = model.set_variable(var_type='_x',var_name='theta')      # yaw angle\n",
    "phi = model.set_variable(var_type='_x',var_name='phi')          # yaw angular velocity\n",
    "delta = model.set_variable(var_type='_x',var_name='delta')      # steering angle\n",
    "\n",
    "# virtual state for timing law\n",
    "z = model.set_variable(var_type='_x', var_name='z')\n",
    "\n",
    "#control inputs\n",
    "a = model.set_variable(var_type='_u',var_name='a')              # acceleration\n",
    "w = model.set_variable(var_type='_u',var_name='w')              # steering rate (angular)\n",
    "\n",
    "# virtual control input for timing law\n",
    "u_v = model.set_variable(var_type='_u',var_name='u_v')\n",
    "\n",
    "# Set right-hand-side of ODE for all introduced states (_x).\n",
    "# Names are inherited from the state definition.\n",
    "\n",
    "Fyf = Cy * (delta - (La * phi) / (v+1e-8))\n",
    "Fyr = (Cy * Lb * phi) / (v+1e-8)\n",
    "\n",
    "equations = [ \n",
    "            v * np.sin(theta), \n",
    "            v * np.cos(theta),\n",
    "            a * np.cos(delta) - (2.0 / m) * Fyf * np.sin(delta),\n",
    "            phi,\n",
    "            (1.0 / J) * (La * (m * a * np.sin(delta) + 2 * Fyf * np.cos(delta)) - 2 * Lb * Fyr),\n",
    "            w\n",
    "          ]\n",
    "\n",
    "\n",
    "model.set_rhs('xc', equations[0])\n",
    "model.set_rhs('yc', equations[1])\n",
    "model.set_rhs('v', equations[2])\n",
    "model.set_rhs('theta', equations[3])\n",
    "model.set_rhs('phi', equations[4])\n",
    "model.set_rhs('delta', equations[5])\n",
    "\n",
    "# Timing law equation\n",
    "timing_law = u_v\n",
    "  \n",
    "# RHS of timing law ODEs\n",
    "model.set_rhs('z', timing_law)\n",
    "\n",
    "# Setup model:\n",
    "model.setup()"
   ]
  },
  {
   "cell_type": "markdown",
   "id": "a64f8786",
   "metadata": {},
   "source": [
    "##### Controller Setup"
   ]
  },
  {
   "cell_type": "code",
   "execution_count": null,
   "id": "e1ea80c0",
   "metadata": {},
   "outputs": [
    {
     "ename": "",
     "evalue": "",
     "output_type": "error",
     "traceback": [
      "\u001b[1;31mRunning cells with 'Python 2.7.1 64-bit' requires ipykernel package.\n",
      "Run the following command to install 'ipykernel' into the Python environment. \n",
      "Command: 'd:/Python27/python.exe -m pip install ipykernel -U --user --force-reinstall'"
     ]
    }
   ],
   "source": [
    "# Obtain an instance of the do-mpc MPC class nd initiate it with the model:\n",
    "mpc = do_mpc.controller.MPC(model)\n",
    "\n",
    "# Set parameters:\n",
    "setup_mpc = {\n",
    "    'n_horizon': N,\n",
    "    't_step': t_s,\n",
    "    'n_robust': 0,\n",
    "    'open_loop': 0,\n",
    "    'state_discretization': 'collocation',\n",
    "    'collocation_type': 'radau',\n",
    "    'collocation_deg': 2,\n",
    "    'collocation_ni': 2,\n",
    "    'store_full_solution': True,\n",
    "}\n",
    "mpc.set_param(**setup_mpc)\n",
    "\n",
    "xc = model.x['xc']\n",
    "yc = model.x['yc']\n",
    "vc = model.x['v']\n",
    "z = model.x['z']\n",
    "    \n",
    "# Objective Cost function:\n",
    "\n",
    "cost = (xc - x_z(z)) ** 2 + (yc - y_z(z)) ** 2 + (vc - v_z(z)) ** 2\n",
    "\n",
    "mterm = cost # terminal cost\n",
    "lterm = cost # stage cost\n",
    "\n",
    "mpc.set_objective(mterm=mterm, lterm=lterm)\n",
    "mpc.set_rterm(a=0.00005)\n",
    "mpc.set_rterm(w=0.00001) # Scaling for quad. cost."
   ]
  },
  {
   "cell_type": "markdown",
   "id": "289cef86",
   "metadata": {},
   "source": [
    "##### Constraints"
   ]
  },
  {
   "cell_type": "code",
   "execution_count": null,
   "id": "33e61537",
   "metadata": {},
   "outputs": [
    {
     "ename": "",
     "evalue": "",
     "output_type": "error",
     "traceback": [
      "\u001b[1;31mRunning cells with 'Python 2.7.1 64-bit' requires ipykernel package.\n",
      "Run the following command to install 'ipykernel' into the Python environment. \n",
      "Command: 'd:/Python27/python.exe -m pip install ipykernel -U --user --force-reinstall'"
     ]
    }
   ],
   "source": [
    "####################### State and input bounds #######################3\n",
    "\n",
    "# mpc.bounds['lower','_x','xc'] = x_0[0]-1e-4\n",
    "# mpc.bounds['lower','_x','yc'] = y_lower\n",
    "mpc.bounds['lower','_x','v'] = 0 # max reverse speed in m/s\n",
    "mpc.bounds['lower','_x','theta'] = -50\n",
    "mpc.bounds['lower','_x','phi'] = -50\n",
    "mpc.bounds['lower','_x','delta'] = -np.pi/6\n",
    "# mpc.bounds['upper','_x','xc'] = target_x+0.1\n",
    "# mpc.bounds['upper','_x','yc'] = y_upper\n",
    "mpc.bounds['upper','_x','v'] = 2.2 # max forward speed in m/s\n",
    "mpc.bounds['upper','_x','theta'] = 50\n",
    "mpc.bounds['upper','_x','phi'] = 50\n",
    "mpc.bounds['upper','_x','delta'] = np.pi/6\n",
    "\n",
    "mpc.bounds['lower','_u','a'] = -10\n",
    "mpc.bounds['lower','_u','w'] = -10\n",
    "mpc.bounds['upper','_u','a'] = 10\n",
    "mpc.bounds['upper','_u','w'] = 10"
   ]
  },
  {
   "cell_type": "markdown",
   "id": "191ac0d7",
   "metadata": {},
   "source": [
    "##### Controller Setup"
   ]
  },
  {
   "cell_type": "code",
   "execution_count": null,
   "id": "de9c8430",
   "metadata": {},
   "outputs": [
    {
     "ename": "NameError",
     "evalue": "name 'structure' is not defined",
     "output_type": "error",
     "traceback": [
      "\u001b[1;31m---------------------------------------------------------------------------\u001b[0m",
      "\u001b[1;31mNameError\u001b[0m                                 Traceback (most recent call last)",
      "\u001b[1;32mc:\\Users\\Yoru\\Documents\\GitHub\\igvc_2022\\controller_ws\\src\\nmpc\\src\\control_node2.ipynb Cell 20'\u001b[0m in \u001b[0;36m<cell line: 1>\u001b[1;34m()\u001b[0m\n\u001b[1;32m----> <a href='vscode-notebook-cell:/c%3A/Users/Yoru/Documents/GitHub/igvc_2022/controller_ws/src/nmpc/src/control_node2.ipynb#ch0000019?line=0'>1</a>\u001b[0m mpc\u001b[39m.\u001b[39;49msetup()\n",
      "File \u001b[1;32mc:\\Users\\Yoru\\Documents\\GitHub\\igvc_2022\\controller_ws\\src\\nmpc\\src\\do_mpc\\controller.py:831\u001b[0m, in \u001b[0;36mMPC.setup\u001b[1;34m(self)\u001b[0m\n\u001b[0;32m    <a href='file:///c%3A/Users/Yoru/Documents/GitHub/igvc_2022/controller_ws/src/nmpc/src/do_mpc/controller.py?line=806'>807</a>\u001b[0m \u001b[39m\"\"\"Setup the MPC class.\u001b[39;00m\n\u001b[0;32m    <a href='file:///c%3A/Users/Yoru/Documents/GitHub/igvc_2022/controller_ws/src/nmpc/src/do_mpc/controller.py?line=807'>808</a>\u001b[0m \u001b[39mInternally, this method will create the MPC optimization problem under consideration\u001b[39;00m\n\u001b[0;32m    <a href='file:///c%3A/Users/Yoru/Documents/GitHub/igvc_2022/controller_ws/src/nmpc/src/do_mpc/controller.py?line=808'>809</a>\u001b[0m \u001b[39mof the supplied dynamic model and the given :py:class:`MPC` class instance configuration.\u001b[39;00m\n\u001b[1;32m   (...)\u001b[0m\n\u001b[0;32m    <a href='file:///c%3A/Users/Yoru/Documents/GitHub/igvc_2022/controller_ws/src/nmpc/src/do_mpc/controller.py?line=826'>827</a>\u001b[0m \n\u001b[0;32m    <a href='file:///c%3A/Users/Yoru/Documents/GitHub/igvc_2022/controller_ws/src/nmpc/src/do_mpc/controller.py?line=827'>828</a>\u001b[0m \u001b[39m\"\"\"\u001b[39;00m\n\u001b[0;32m    <a href='file:///c%3A/Users/Yoru/Documents/GitHub/igvc_2022/controller_ws/src/nmpc/src/do_mpc/controller.py?line=829'>830</a>\u001b[0m \u001b[39mself\u001b[39m\u001b[39m.\u001b[39m_setup_nl_cons()\n\u001b[1;32m--> <a href='file:///c%3A/Users/Yoru/Documents/GitHub/igvc_2022/controller_ws/src/nmpc/src/do_mpc/controller.py?line=830'>831</a>\u001b[0m \u001b[39mself\u001b[39;49m\u001b[39m.\u001b[39;49m_check_validity()\n\u001b[0;32m    <a href='file:///c%3A/Users/Yoru/Documents/GitHub/igvc_2022/controller_ws/src/nmpc/src/do_mpc/controller.py?line=831'>832</a>\u001b[0m \u001b[39mself\u001b[39m\u001b[39m.\u001b[39m_setup_mpc_optim_problem()\n\u001b[0;32m    <a href='file:///c%3A/Users/Yoru/Documents/GitHub/igvc_2022/controller_ws/src/nmpc/src/do_mpc/controller.py?line=833'>834</a>\u001b[0m \u001b[39m# Gather meta information:\u001b[39;00m\n",
      "File \u001b[1;32mc:\\Users\\Yoru\\Documents\\GitHub\\igvc_2022\\controller_ws\\src\\nmpc\\src\\do_mpc\\controller.py:798\u001b[0m, in \u001b[0;36mMPC._check_validity\u001b[1;34m(self)\u001b[0m\n\u001b[0;32m    <a href='file:///c%3A/Users/Yoru/Documents/GitHub/igvc_2022/controller_ws/src/nmpc/src/do_mpc/controller.py?line=794'>795</a>\u001b[0m     _tvp \u001b[39m=\u001b[39m \u001b[39mself\u001b[39m\u001b[39m.\u001b[39mget_tvp_template()\n\u001b[0;32m    <a href='file:///c%3A/Users/Yoru/Documents/GitHub/igvc_2022/controller_ws/src/nmpc/src/do_mpc/controller.py?line=796'>797</a>\u001b[0m     \u001b[39mdef\u001b[39;00m \u001b[39mtvp_fun\u001b[39m(t): \u001b[39mreturn\u001b[39;00m _tvp\n\u001b[1;32m--> <a href='file:///c%3A/Users/Yoru/Documents/GitHub/igvc_2022/controller_ws/src/nmpc/src/do_mpc/controller.py?line=797'>798</a>\u001b[0m     \u001b[39mself\u001b[39;49m\u001b[39m.\u001b[39;49mset_tvp_fun(tvp_fun)\n\u001b[0;32m    <a href='file:///c%3A/Users/Yoru/Documents/GitHub/igvc_2022/controller_ws/src/nmpc/src/do_mpc/controller.py?line=799'>800</a>\u001b[0m \u001b[39mif\u001b[39;00m \u001b[39m'\u001b[39m\u001b[39mp_fun\u001b[39m\u001b[39m'\u001b[39m \u001b[39mnot\u001b[39;00m \u001b[39min\u001b[39;00m \u001b[39mself\u001b[39m\u001b[39m.\u001b[39m\u001b[39m__dict__\u001b[39m:\n\u001b[0;32m    <a href='file:///c%3A/Users/Yoru/Documents/GitHub/igvc_2022/controller_ws/src/nmpc/src/do_mpc/controller.py?line=800'>801</a>\u001b[0m     _p \u001b[39m=\u001b[39m \u001b[39mself\u001b[39m\u001b[39m.\u001b[39mget_p_template(\u001b[39m1\u001b[39m)\n",
      "File \u001b[1;32mc:\\Users\\Yoru\\Documents\\GitHub\\igvc_2022\\controller_ws\\src\\nmpc\\src\\do_mpc\\optimizer.py:461\u001b[0m, in \u001b[0;36mOptimizer.set_tvp_fun\u001b[1;34m(self, tvp_fun)\u001b[0m\n\u001b[0;32m    <a href='file:///c%3A/Users/Yoru/Documents/GitHub/igvc_2022/controller_ws/src/nmpc/src/do_mpc/optimizer.py?line=419'>420</a>\u001b[0m \u001b[39mdef\u001b[39;00m \u001b[39mset_tvp_fun\u001b[39m(\u001b[39mself\u001b[39m, tvp_fun):\n\u001b[0;32m    <a href='file:///c%3A/Users/Yoru/Documents/GitHub/igvc_2022/controller_ws/src/nmpc/src/do_mpc/optimizer.py?line=420'>421</a>\u001b[0m     \u001b[39m\"\"\" Set function which returns time-varying parameters.\u001b[39;00m\n\u001b[0;32m    <a href='file:///c%3A/Users/Yoru/Documents/GitHub/igvc_2022/controller_ws/src/nmpc/src/do_mpc/optimizer.py?line=421'>422</a>\u001b[0m \n\u001b[0;32m    <a href='file:///c%3A/Users/Yoru/Documents/GitHub/igvc_2022/controller_ws/src/nmpc/src/do_mpc/optimizer.py?line=422'>423</a>\u001b[0m \u001b[39m    The ``tvp_fun`` is called at each optimization step to get the current prediction of the time-varying parameters.\u001b[39;00m\n\u001b[1;32m   (...)\u001b[0m\n\u001b[0;32m    <a href='file:///c%3A/Users/Yoru/Documents/GitHub/igvc_2022/controller_ws/src/nmpc/src/do_mpc/optimizer.py?line=458'>459</a>\u001b[0m \n\u001b[0;32m    <a href='file:///c%3A/Users/Yoru/Documents/GitHub/igvc_2022/controller_ws/src/nmpc/src/do_mpc/optimizer.py?line=459'>460</a>\u001b[0m \u001b[39m    \"\"\"\u001b[39;00m\n\u001b[1;32m--> <a href='file:///c%3A/Users/Yoru/Documents/GitHub/igvc_2022/controller_ws/src/nmpc/src/do_mpc/optimizer.py?line=460'>461</a>\u001b[0m     \u001b[39massert\u001b[39;00m \u001b[39misinstance\u001b[39m(tvp_fun(\u001b[39m0\u001b[39m), structure\u001b[39m.\u001b[39mDMStruct), \u001b[39m'\u001b[39m\u001b[39mIncorrect output of tvp_fun. Use get_tvp_template to obtain the required structure.\u001b[39m\u001b[39m'\u001b[39m\n\u001b[0;32m    <a href='file:///c%3A/Users/Yoru/Documents/GitHub/igvc_2022/controller_ws/src/nmpc/src/do_mpc/optimizer.py?line=461'>462</a>\u001b[0m     \u001b[39massert\u001b[39;00m \u001b[39mself\u001b[39m\u001b[39m.\u001b[39mget_tvp_template()\u001b[39m.\u001b[39mlabels() \u001b[39m==\u001b[39m tvp_fun(\u001b[39m0\u001b[39m)\u001b[39m.\u001b[39mlabels(), \u001b[39m'\u001b[39m\u001b[39mIncorrect output of tvp_fun. Use get_tvp_template to obtain the required structure.\u001b[39m\u001b[39m'\u001b[39m\n\u001b[0;32m    <a href='file:///c%3A/Users/Yoru/Documents/GitHub/igvc_2022/controller_ws/src/nmpc/src/do_mpc/optimizer.py?line=463'>464</a>\u001b[0m     \u001b[39mself\u001b[39m\u001b[39m.\u001b[39mflags[\u001b[39m'\u001b[39m\u001b[39mset_tvp_fun\u001b[39m\u001b[39m'\u001b[39m] \u001b[39m=\u001b[39m \u001b[39mTrue\u001b[39;00m\n",
      "\u001b[1;31mNameError\u001b[0m: name 'structure' is not defined"
     ]
    },
    {
     "ename": "",
     "evalue": "",
     "output_type": "error",
     "traceback": [
      "\u001b[1;31mRunning cells with 'Python 2.7.1 64-bit' requires ipykernel package.\n",
      "Run the following command to install 'ipykernel' into the Python environment. \n",
      "Command: 'd:/Python27/python.exe -m pip install ipykernel -U --user --force-reinstall'"
     ]
    }
   ],
   "source": [
    "mpc.setup()"
   ]
  },
  {
   "cell_type": "markdown",
   "id": "661323b4",
   "metadata": {},
   "source": [
    "##### Estimator Setup"
   ]
  },
  {
   "cell_type": "code",
   "execution_count": null,
   "id": "7db0bd79",
   "metadata": {},
   "outputs": [
    {
     "ename": "",
     "evalue": "",
     "output_type": "error",
     "traceback": [
      "\u001b[1;31mRunning cells with 'Python 2.7.1 64-bit' requires ipykernel package.\n",
      "Run the following command to install 'ipykernel' into the Python environment. \n",
      "Command: 'd:/Python27/python.exe -m pip install ipykernel -U --user --force-reinstall'"
     ]
    }
   ],
   "source": [
    "estimator = do_mpc.estimator.StateFeedback(model)"
   ]
  },
  {
   "cell_type": "markdown",
   "id": "9ca918a0",
   "metadata": {},
   "source": [
    "##### Simulator Setup"
   ]
  },
  {
   "cell_type": "code",
   "execution_count": null,
   "id": "76c48e75",
   "metadata": {},
   "outputs": [
    {
     "ename": "NameError",
     "evalue": "name 'structure' is not defined",
     "output_type": "error",
     "traceback": [
      "\u001b[1;31m---------------------------------------------------------------------------\u001b[0m",
      "\u001b[1;31mNameError\u001b[0m                                 Traceback (most recent call last)",
      "\u001b[1;32mc:\\Users\\Yoru\\Documents\\GitHub\\igvc_2022\\controller_ws\\src\\nmpc\\src\\control_node2.ipynb Cell 24'\u001b[0m in \u001b[0;36m<cell line: 8>\u001b[1;34m()\u001b[0m\n\u001b[0;32m      <a href='vscode-notebook-cell:/c%3A/Users/Yoru/Documents/GitHub/igvc_2022/controller_ws/src/nmpc/src/control_node2.ipynb#ch0000023?line=4'>5</a>\u001b[0m simulator\u001b[39m.\u001b[39mset_param(t_step \u001b[39m=\u001b[39m t_s)\n\u001b[0;32m      <a href='vscode-notebook-cell:/c%3A/Users/Yoru/Documents/GitHub/igvc_2022/controller_ws/src/nmpc/src/control_node2.ipynb#ch0000023?line=6'>7</a>\u001b[0m \u001b[39m# Setup simulator:\u001b[39;00m\n\u001b[1;32m----> <a href='vscode-notebook-cell:/c%3A/Users/Yoru/Documents/GitHub/igvc_2022/controller_ws/src/nmpc/src/control_node2.ipynb#ch0000023?line=7'>8</a>\u001b[0m simulator\u001b[39m.\u001b[39;49msetup()\n\u001b[0;32m     <a href='vscode-notebook-cell:/c%3A/Users/Yoru/Documents/GitHub/igvc_2022/controller_ws/src/nmpc/src/control_node2.ipynb#ch0000023?line=9'>10</a>\u001b[0m simulator\u001b[39m.\u001b[39mx0 \u001b[39m=\u001b[39m x_initial  \n\u001b[0;32m     <a href='vscode-notebook-cell:/c%3A/Users/Yoru/Documents/GitHub/igvc_2022/controller_ws/src/nmpc/src/control_node2.ipynb#ch0000023?line=10'>11</a>\u001b[0m x_0 \u001b[39m=\u001b[39m simulator\u001b[39m.\u001b[39mx0\u001b[39m.\u001b[39mcat\u001b[39m.\u001b[39mfull()\n",
      "File \u001b[1;32mc:\\Users\\Yoru\\Documents\\GitHub\\igvc_2022\\controller_ws\\src\\nmpc\\src\\do_mpc\\simulator.py:134\u001b[0m, in \u001b[0;36mSimulator.setup\u001b[1;34m(self)\u001b[0m\n\u001b[0;32m    <a href='file:///c%3A/Users/Yoru/Documents/GitHub/igvc_2022/controller_ws/src/nmpc/src/do_mpc/simulator.py?line=123'>124</a>\u001b[0m \u001b[39mdef\u001b[39;00m \u001b[39msetup\u001b[39m(\u001b[39mself\u001b[39m):\n\u001b[0;32m    <a href='file:///c%3A/Users/Yoru/Documents/GitHub/igvc_2022/controller_ws/src/nmpc/src/do_mpc/simulator.py?line=124'>125</a>\u001b[0m     \u001b[39m\"\"\"Sets up the simulator and finalizes the simulator configuration.\u001b[39;00m\n\u001b[0;32m    <a href='file:///c%3A/Users/Yoru/Documents/GitHub/igvc_2022/controller_ws/src/nmpc/src/do_mpc/simulator.py?line=125'>126</a>\u001b[0m \u001b[39m    Only after the setup, the :py:func:`make_step` method becomes available.\u001b[39;00m\n\u001b[0;32m    <a href='file:///c%3A/Users/Yoru/Documents/GitHub/igvc_2022/controller_ws/src/nmpc/src/do_mpc/simulator.py?line=126'>127</a>\u001b[0m \n\u001b[1;32m   (...)\u001b[0m\n\u001b[0;32m    <a href='file:///c%3A/Users/Yoru/Documents/GitHub/igvc_2022/controller_ws/src/nmpc/src/do_mpc/simulator.py?line=130'>131</a>\u001b[0m \u001b[39m    :rtype: None\u001b[39;00m\n\u001b[0;32m    <a href='file:///c%3A/Users/Yoru/Documents/GitHub/igvc_2022/controller_ws/src/nmpc/src/do_mpc/simulator.py?line=131'>132</a>\u001b[0m \u001b[39m    \"\"\"\u001b[39;00m\n\u001b[1;32m--> <a href='file:///c%3A/Users/Yoru/Documents/GitHub/igvc_2022/controller_ws/src/nmpc/src/do_mpc/simulator.py?line=133'>134</a>\u001b[0m     \u001b[39mself\u001b[39;49m\u001b[39m.\u001b[39;49m_check_validity()\n\u001b[0;32m    <a href='file:///c%3A/Users/Yoru/Documents/GitHub/igvc_2022/controller_ws/src/nmpc/src/do_mpc/simulator.py?line=135'>136</a>\u001b[0m     \u001b[39mself\u001b[39m\u001b[39m.\u001b[39msim_x \u001b[39m=\u001b[39m sim_x \u001b[39m=\u001b[39m struct_symSX([\n\u001b[0;32m    <a href='file:///c%3A/Users/Yoru/Documents/GitHub/igvc_2022/controller_ws/src/nmpc/src/do_mpc/simulator.py?line=136'>137</a>\u001b[0m         entry(\u001b[39m'\u001b[39m\u001b[39m_x\u001b[39m\u001b[39m'\u001b[39m, struct\u001b[39m=\u001b[39m\u001b[39mself\u001b[39m\u001b[39m.\u001b[39mmodel\u001b[39m.\u001b[39m_x)\n\u001b[0;32m    <a href='file:///c%3A/Users/Yoru/Documents/GitHub/igvc_2022/controller_ws/src/nmpc/src/do_mpc/simulator.py?line=137'>138</a>\u001b[0m     ])\n\u001b[0;32m    <a href='file:///c%3A/Users/Yoru/Documents/GitHub/igvc_2022/controller_ws/src/nmpc/src/do_mpc/simulator.py?line=138'>139</a>\u001b[0m     \u001b[39mself\u001b[39m\u001b[39m.\u001b[39msim_z \u001b[39m=\u001b[39m sim_z \u001b[39m=\u001b[39m struct_symSX([\n\u001b[0;32m    <a href='file:///c%3A/Users/Yoru/Documents/GitHub/igvc_2022/controller_ws/src/nmpc/src/do_mpc/simulator.py?line=139'>140</a>\u001b[0m         entry(\u001b[39m'\u001b[39m\u001b[39m_z\u001b[39m\u001b[39m'\u001b[39m, struct\u001b[39m=\u001b[39m\u001b[39mself\u001b[39m\u001b[39m.\u001b[39mmodel\u001b[39m.\u001b[39m_z)\n\u001b[0;32m    <a href='file:///c%3A/Users/Yoru/Documents/GitHub/igvc_2022/controller_ws/src/nmpc/src/do_mpc/simulator.py?line=140'>141</a>\u001b[0m     ])\n",
      "File \u001b[1;32mc:\\Users\\Yoru\\Documents\\GitHub\\igvc_2022\\controller_ws\\src\\nmpc\\src\\do_mpc\\simulator.py:115\u001b[0m, in \u001b[0;36mSimulator._check_validity\u001b[1;34m(self)\u001b[0m\n\u001b[0;32m    <a href='file:///c%3A/Users/Yoru/Documents/GitHub/igvc_2022/controller_ws/src/nmpc/src/do_mpc/simulator.py?line=112'>113</a>\u001b[0m     _tvp \u001b[39m=\u001b[39m \u001b[39mself\u001b[39m\u001b[39m.\u001b[39mget_tvp_template()\n\u001b[0;32m    <a href='file:///c%3A/Users/Yoru/Documents/GitHub/igvc_2022/controller_ws/src/nmpc/src/do_mpc/simulator.py?line=113'>114</a>\u001b[0m     \u001b[39mdef\u001b[39;00m \u001b[39mtvp_fun\u001b[39m(t): \u001b[39mreturn\u001b[39;00m _tvp\n\u001b[1;32m--> <a href='file:///c%3A/Users/Yoru/Documents/GitHub/igvc_2022/controller_ws/src/nmpc/src/do_mpc/simulator.py?line=114'>115</a>\u001b[0m     \u001b[39mself\u001b[39;49m\u001b[39m.\u001b[39;49mset_tvp_fun(tvp_fun)\n\u001b[0;32m    <a href='file:///c%3A/Users/Yoru/Documents/GitHub/igvc_2022/controller_ws/src/nmpc/src/do_mpc/simulator.py?line=116'>117</a>\u001b[0m \u001b[39mif\u001b[39;00m \u001b[39mnot\u001b[39;00m \u001b[39mself\u001b[39m\u001b[39m.\u001b[39mflags[\u001b[39m'\u001b[39m\u001b[39mset_p_fun\u001b[39m\u001b[39m'\u001b[39m]:\n\u001b[0;32m    <a href='file:///c%3A/Users/Yoru/Documents/GitHub/igvc_2022/controller_ws/src/nmpc/src/do_mpc/simulator.py?line=117'>118</a>\u001b[0m     _p \u001b[39m=\u001b[39m \u001b[39mself\u001b[39m\u001b[39m.\u001b[39mget_p_template()\n",
      "File \u001b[1;32mc:\\Users\\Yoru\\Documents\\GitHub\\igvc_2022\\controller_ws\\src\\nmpc\\src\\do_mpc\\simulator.py:282\u001b[0m, in \u001b[0;36mSimulator.set_tvp_fun\u001b[1;34m(self, tvp_fun)\u001b[0m\n\u001b[0;32m    <a href='file:///c%3A/Users/Yoru/Documents/GitHub/igvc_2022/controller_ws/src/nmpc/src/do_mpc/simulator.py?line=231'>232</a>\u001b[0m \u001b[39m\"\"\"Method to set the function which returns the values of the time-varying parameters.\u001b[39;00m\n\u001b[0;32m    <a href='file:///c%3A/Users/Yoru/Documents/GitHub/igvc_2022/controller_ws/src/nmpc/src/do_mpc/simulator.py?line=232'>233</a>\u001b[0m \u001b[39mThis function must return a CasADi structure which can be obtained with :py:func:`get_tvp_template`.\u001b[39;00m\n\u001b[0;32m    <a href='file:///c%3A/Users/Yoru/Documents/GitHub/igvc_2022/controller_ws/src/nmpc/src/do_mpc/simulator.py?line=233'>234</a>\u001b[0m \n\u001b[1;32m   (...)\u001b[0m\n\u001b[0;32m    <a href='file:///c%3A/Users/Yoru/Documents/GitHub/igvc_2022/controller_ws/src/nmpc/src/do_mpc/simulator.py?line=278'>279</a>\u001b[0m \u001b[39m:rtype: None\u001b[39;00m\n\u001b[0;32m    <a href='file:///c%3A/Users/Yoru/Documents/GitHub/igvc_2022/controller_ws/src/nmpc/src/do_mpc/simulator.py?line=279'>280</a>\u001b[0m \u001b[39m\"\"\"\u001b[39;00m\n\u001b[0;32m    <a href='file:///c%3A/Users/Yoru/Documents/GitHub/igvc_2022/controller_ws/src/nmpc/src/do_mpc/simulator.py?line=280'>281</a>\u001b[0m \u001b[39mimport\u001b[39;00m \u001b[39mos\u001b[39;00m\n\u001b[1;32m--> <a href='file:///c%3A/Users/Yoru/Documents/GitHub/igvc_2022/controller_ws/src/nmpc/src/do_mpc/simulator.py?line=281'>282</a>\u001b[0m \u001b[39massert\u001b[39;00m \u001b[39misinstance\u001b[39m(tvp_fun(\u001b[39m0\u001b[39m), structure\u001b[39m.\u001b[39mDMStruct), \u001b[39m'\u001b[39m\u001b[39mtvp_fun has incorrect return type.\u001b[39m\u001b[39m'\u001b[39m\n\u001b[0;32m    <a href='file:///c%3A/Users/Yoru/Documents/GitHub/igvc_2022/controller_ws/src/nmpc/src/do_mpc/simulator.py?line=282'>283</a>\u001b[0m \u001b[39massert\u001b[39;00m \u001b[39mself\u001b[39m\u001b[39m.\u001b[39mget_tvp_template()\u001b[39m.\u001b[39mlabels() \u001b[39m==\u001b[39m tvp_fun(\u001b[39m0\u001b[39m)\u001b[39m.\u001b[39mlabels(), \u001b[39m'\u001b[39m\u001b[39mIncorrect output of tvp_fun. Use get_tvp_template to obtain the required structure.\u001b[39m\u001b[39m'\u001b[39m\n\u001b[0;32m    <a href='file:///c%3A/Users/Yoru/Documents/GitHub/igvc_2022/controller_ws/src/nmpc/src/do_mpc/simulator.py?line=283'>284</a>\u001b[0m \u001b[39mself\u001b[39m\u001b[39m.\u001b[39mtvp_fun \u001b[39m=\u001b[39m tvp_fun\n",
      "\u001b[1;31mNameError\u001b[0m: name 'structure' is not defined"
     ]
    },
    {
     "ename": "",
     "evalue": "",
     "output_type": "error",
     "traceback": [
      "\u001b[1;31mRunning cells with 'Python 2.7.1 64-bit' requires ipykernel package.\n",
      "Run the following command to install 'ipykernel' into the Python environment. \n",
      "Command: 'd:/Python27/python.exe -m pip install ipykernel -U --user --force-reinstall'"
     ]
    }
   ],
   "source": [
    "# Obtain an instance of the do-mpc MPC class nd initiate it with the model:\n",
    "simulator = do_mpc.simulator.Simulator(model)\n",
    "\n",
    "# Set parameter(s):\n",
    "simulator.set_param(t_step = t_s)\n",
    "\n",
    "# Setup simulator:\n",
    "simulator.setup()"
   ]
  },
  {
   "cell_type": "markdown",
   "id": "adc6664f",
   "metadata": {},
   "source": [
    "##### Setup"
   ]
  },
  {
   "cell_type": "code",
   "execution_count": null,
   "id": "9369013b",
   "metadata": {},
   "outputs": [
    {
     "ename": "AssertionError",
     "evalue": "MPC was not setup yet. Please call MPC.setup().",
     "output_type": "error",
     "traceback": [
      "\u001b[1;31m---------------------------------------------------------------------------\u001b[0m",
      "\u001b[1;31mAssertionError\u001b[0m                            Traceback (most recent call last)",
      "\u001b[1;32mc:\\Users\\Yoru\\Documents\\GitHub\\igvc_2022\\controller_ws\\src\\nmpc\\src\\control_node2.ipynb Cell 26'\u001b[0m in \u001b[0;36m<cell line: 4>\u001b[1;34m()\u001b[0m\n\u001b[0;32m      <a href='vscode-notebook-cell:/c%3A/Users/Yoru/Documents/GitHub/igvc_2022/controller_ws/src/nmpc/src/control_node2.ipynb#ch0000025?line=1'>2</a>\u001b[0m simulator\u001b[39m.\u001b[39mx0 \u001b[39m=\u001b[39m x_0\n\u001b[0;32m      <a href='vscode-notebook-cell:/c%3A/Users/Yoru/Documents/GitHub/igvc_2022/controller_ws/src/nmpc/src/control_node2.ipynb#ch0000025?line=2'>3</a>\u001b[0m estimator\u001b[39m.\u001b[39mx0 \u001b[39m=\u001b[39m x_0\n\u001b[1;32m----> <a href='vscode-notebook-cell:/c%3A/Users/Yoru/Documents/GitHub/igvc_2022/controller_ws/src/nmpc/src/control_node2.ipynb#ch0000025?line=3'>4</a>\u001b[0m mpc\u001b[39m.\u001b[39;49mset_initial_guess()\n\u001b[0;32m      <a href='vscode-notebook-cell:/c%3A/Users/Yoru/Documents/GitHub/igvc_2022/controller_ws/src/nmpc/src/control_node2.ipynb#ch0000025?line=4'>5</a>\u001b[0m simulator\u001b[39m.\u001b[39mset_initial_guess()\n\u001b[0;32m      <a href='vscode-notebook-cell:/c%3A/Users/Yoru/Documents/GitHub/igvc_2022/controller_ws/src/nmpc/src/control_node2.ipynb#ch0000025?line=5'>6</a>\u001b[0m mpc\u001b[39m.\u001b[39mreset_history()\n",
      "File \u001b[1;32mc:\\Users\\Yoru\\Documents\\GitHub\\igvc_2022\\controller_ws\\src\\nmpc\\src\\do_mpc\\controller.py:855\u001b[0m, in \u001b[0;36mMPC.set_initial_guess\u001b[1;34m(self)\u001b[0m\n\u001b[0;32m    <a href='file:///c%3A/Users/Yoru/Documents/GitHub/igvc_2022/controller_ws/src/nmpc/src/do_mpc/controller.py?line=842'>843</a>\u001b[0m \u001b[39mdef\u001b[39;00m \u001b[39mset_initial_guess\u001b[39m(\u001b[39mself\u001b[39m):\n\u001b[0;32m    <a href='file:///c%3A/Users/Yoru/Documents/GitHub/igvc_2022/controller_ws/src/nmpc/src/do_mpc/controller.py?line=843'>844</a>\u001b[0m     \u001b[39m\"\"\"Initial guess for optimization variables.\u001b[39;00m\n\u001b[0;32m    <a href='file:///c%3A/Users/Yoru/Documents/GitHub/igvc_2022/controller_ws/src/nmpc/src/do_mpc/controller.py?line=844'>845</a>\u001b[0m \u001b[39m    Uses the current class attributes :py:attr:`x0`, :py:attr:`z0` and :py:attr:`u0` to create the initial guess.\u001b[39;00m\n\u001b[0;32m    <a href='file:///c%3A/Users/Yoru/Documents/GitHub/igvc_2022/controller_ws/src/nmpc/src/do_mpc/controller.py?line=845'>846</a>\u001b[0m \u001b[39m    The initial guess is simply the initial values for all :math:`k=0,\\dots,N` instances of :math:`x_k`, :math:`u_k` and :math:`z_k`.\u001b[39;00m\n\u001b[1;32m   (...)\u001b[0m\n\u001b[0;32m    <a href='file:///c%3A/Users/Yoru/Documents/GitHub/igvc_2022/controller_ws/src/nmpc/src/do_mpc/controller.py?line=852'>853</a>\u001b[0m \u001b[39m        :py:attr:`opt_x_num`.\u001b[39;00m\n\u001b[0;32m    <a href='file:///c%3A/Users/Yoru/Documents/GitHub/igvc_2022/controller_ws/src/nmpc/src/do_mpc/controller.py?line=853'>854</a>\u001b[0m \u001b[39m    \"\"\"\u001b[39;00m\n\u001b[1;32m--> <a href='file:///c%3A/Users/Yoru/Documents/GitHub/igvc_2022/controller_ws/src/nmpc/src/do_mpc/controller.py?line=854'>855</a>\u001b[0m     \u001b[39massert\u001b[39;00m \u001b[39mself\u001b[39m\u001b[39m.\u001b[39mflags[\u001b[39m'\u001b[39m\u001b[39msetup\u001b[39m\u001b[39m'\u001b[39m] \u001b[39m==\u001b[39m \u001b[39mTrue\u001b[39;00m, \u001b[39m'\u001b[39m\u001b[39mMPC was not setup yet. Please call MPC.setup().\u001b[39m\u001b[39m'\u001b[39m\n\u001b[0;32m    <a href='file:///c%3A/Users/Yoru/Documents/GitHub/igvc_2022/controller_ws/src/nmpc/src/do_mpc/controller.py?line=856'>857</a>\u001b[0m     \u001b[39mself\u001b[39m\u001b[39m.\u001b[39mopt_x_num[\u001b[39m'\u001b[39m\u001b[39m_x\u001b[39m\u001b[39m'\u001b[39m] \u001b[39m=\u001b[39m \u001b[39mself\u001b[39m\u001b[39m.\u001b[39m_x0\u001b[39m.\u001b[39mcat\u001b[39m/\u001b[39m\u001b[39mself\u001b[39m\u001b[39m.\u001b[39m_x_scaling\n\u001b[0;32m    <a href='file:///c%3A/Users/Yoru/Documents/GitHub/igvc_2022/controller_ws/src/nmpc/src/do_mpc/controller.py?line=857'>858</a>\u001b[0m     \u001b[39mself\u001b[39m\u001b[39m.\u001b[39mopt_x_num[\u001b[39m'\u001b[39m\u001b[39m_u\u001b[39m\u001b[39m'\u001b[39m] \u001b[39m=\u001b[39m \u001b[39mself\u001b[39m\u001b[39m.\u001b[39m_u0\u001b[39m.\u001b[39mcat\u001b[39m/\u001b[39m\u001b[39mself\u001b[39m\u001b[39m.\u001b[39m_u_scaling\n",
      "\u001b[1;31mAssertionError\u001b[0m: MPC was not setup yet. Please call MPC.setup()."
     ]
    },
    {
     "ename": "",
     "evalue": "",
     "output_type": "error",
     "traceback": [
      "\u001b[1;31mRunning cells with 'Python 2.7.1 64-bit' requires ipykernel package.\n",
      "Run the following command to install 'ipykernel' into the Python environment. \n",
      "Command: 'd:/Python27/python.exe -m pip install ipykernel -U --user --force-reinstall'"
     ]
    }
   ],
   "source": [
    "mpc.x0 = x_0\n",
    "simulator.x0 = x_0\n",
    "estimator.x0 = x_0\n",
    "mpc.set_initial_guess()\n",
    "simulator.set_initial_guess()\n",
    "mpc.reset_history()\n",
    "simulator.reset_history()"
   ]
  },
  {
   "cell_type": "markdown",
   "id": "7eb0f8b3",
   "metadata": {},
   "source": [
    "##### Control Loop"
   ]
  },
  {
   "cell_type": "code",
   "execution_count": null,
   "id": "09c8c59e",
   "metadata": {},
   "outputs": [
    {
     "name": "stdout",
     "output_type": "stream",
     "text": [
      "\n",
      "\n",
      "############    0    ############\n",
      "\n",
      "\n"
     ]
    },
    {
     "ename": "AssertionError",
     "evalue": "MPC was not setup yet. Please call MPC.setup().",
     "output_type": "error",
     "traceback": [
      "\u001b[1;31m---------------------------------------------------------------------------\u001b[0m",
      "\u001b[1;31mAssertionError\u001b[0m                            Traceback (most recent call last)",
      "\u001b[1;32mc:\\Users\\Yoru\\Documents\\GitHub\\igvc_2022\\controller_ws\\src\\nmpc\\src\\control_node2.ipynb Cell 28'\u001b[0m in \u001b[0;36m<cell line: 11>\u001b[1;34m()\u001b[0m\n\u001b[0;32m     <a href='vscode-notebook-cell:/c%3A/Users/Yoru/Documents/GitHub/igvc_2022/controller_ws/src/nmpc/src/control_node2.ipynb#ch0000027?line=10'>11</a>\u001b[0m \u001b[39mfor\u001b[39;00m k \u001b[39min\u001b[39;00m \u001b[39mrange\u001b[39m(N_ref):\n\u001b[0;32m     <a href='vscode-notebook-cell:/c%3A/Users/Yoru/Documents/GitHub/igvc_2022/controller_ws/src/nmpc/src/control_node2.ipynb#ch0000027?line=11'>12</a>\u001b[0m     \u001b[39mprint\u001b[39m(\u001b[39m'\u001b[39m\u001b[39m\\n\u001b[39;00m\u001b[39m\\n\u001b[39;00m\u001b[39m############    \u001b[39m\u001b[39m'\u001b[39m \u001b[39m+\u001b[39m \u001b[39mstr\u001b[39m(k) \u001b[39m+\u001b[39m \u001b[39m'\u001b[39m\u001b[39m    ############\u001b[39m\u001b[39m\\n\u001b[39;00m\u001b[39m\\n\u001b[39;00m\u001b[39m'\u001b[39m)\t\t\n\u001b[1;32m---> <a href='vscode-notebook-cell:/c%3A/Users/Yoru/Documents/GitHub/igvc_2022/controller_ws/src/nmpc/src/control_node2.ipynb#ch0000027?line=13'>14</a>\u001b[0m     u0 \u001b[39m=\u001b[39m mpc\u001b[39m.\u001b[39;49mmake_step(x_0)    \u001b[39m# Determine optimal control inputs using the inital state given\u001b[39;00m\n\u001b[0;32m     <a href='vscode-notebook-cell:/c%3A/Users/Yoru/Documents/GitHub/igvc_2022/controller_ws/src/nmpc/src/control_node2.ipynb#ch0000027?line=15'>16</a>\u001b[0m     \u001b[39m# publish the steering angle and acceleration and brake values \u001b[39;00m\n\u001b[0;32m     <a href='vscode-notebook-cell:/c%3A/Users/Yoru/Documents/GitHub/igvc_2022/controller_ws/src/nmpc/src/control_node2.ipynb#ch0000027?line=16'>17</a>\u001b[0m     \u001b[39mif\u001b[39;00m u0[\u001b[39m0\u001b[39m][\u001b[39m0\u001b[39m]\u001b[39m>\u001b[39m\u001b[39m=\u001b[39m\u001b[39m0\u001b[39m:\n",
      "File \u001b[1;32mc:\\Users\\Yoru\\Documents\\GitHub\\igvc_2022\\controller_ws\\src\\nmpc\\src\\do_mpc\\controller.py:878\u001b[0m, in \u001b[0;36mMPC.make_step\u001b[1;34m(self, x0)\u001b[0m\n\u001b[0;32m    <a href='file:///c%3A/Users/Yoru/Documents/GitHub/igvc_2022/controller_ws/src/nmpc/src/do_mpc/controller.py?line=864'>865</a>\u001b[0m \u001b[39m\"\"\"Main method of the class during runtime. This method is called at each timestep\u001b[39;00m\n\u001b[0;32m    <a href='file:///c%3A/Users/Yoru/Documents/GitHub/igvc_2022/controller_ws/src/nmpc/src/do_mpc/controller.py?line=865'>866</a>\u001b[0m \u001b[39mand returns the control input for the current initial state :py:obj:`x0`.\u001b[39;00m\n\u001b[0;32m    <a href='file:///c%3A/Users/Yoru/Documents/GitHub/igvc_2022/controller_ws/src/nmpc/src/do_mpc/controller.py?line=866'>867</a>\u001b[0m \n\u001b[1;32m   (...)\u001b[0m\n\u001b[0;32m    <a href='file:///c%3A/Users/Yoru/Documents/GitHub/igvc_2022/controller_ws/src/nmpc/src/do_mpc/controller.py?line=874'>875</a>\u001b[0m \u001b[39m:rtype: numpy.ndarray\u001b[39;00m\n\u001b[0;32m    <a href='file:///c%3A/Users/Yoru/Documents/GitHub/igvc_2022/controller_ws/src/nmpc/src/do_mpc/controller.py?line=875'>876</a>\u001b[0m \u001b[39m\"\"\"\u001b[39;00m\n\u001b[0;32m    <a href='file:///c%3A/Users/Yoru/Documents/GitHub/igvc_2022/controller_ws/src/nmpc/src/do_mpc/controller.py?line=876'>877</a>\u001b[0m \u001b[39m# Check setup.\u001b[39;00m\n\u001b[1;32m--> <a href='file:///c%3A/Users/Yoru/Documents/GitHub/igvc_2022/controller_ws/src/nmpc/src/do_mpc/controller.py?line=877'>878</a>\u001b[0m \u001b[39massert\u001b[39;00m \u001b[39mself\u001b[39m\u001b[39m.\u001b[39mflags[\u001b[39m'\u001b[39m\u001b[39msetup\u001b[39m\u001b[39m'\u001b[39m] \u001b[39m==\u001b[39m \u001b[39mTrue\u001b[39;00m, \u001b[39m'\u001b[39m\u001b[39mMPC was not setup yet. Please call MPC.setup().\u001b[39m\u001b[39m'\u001b[39m\n\u001b[0;32m    <a href='file:///c%3A/Users/Yoru/Documents/GitHub/igvc_2022/controller_ws/src/nmpc/src/do_mpc/controller.py?line=879'>880</a>\u001b[0m \u001b[39m# Check input type.\u001b[39;00m\n\u001b[0;32m    <a href='file:///c%3A/Users/Yoru/Documents/GitHub/igvc_2022/controller_ws/src/nmpc/src/do_mpc/controller.py?line=880'>881</a>\u001b[0m \u001b[39mif\u001b[39;00m \u001b[39misinstance\u001b[39m(x0, (np\u001b[39m.\u001b[39mndarray, casadi\u001b[39m.\u001b[39mDM)):\n",
      "\u001b[1;31mAssertionError\u001b[0m: MPC was not setup yet. Please call MPC.setup()."
     ]
    },
    {
     "ename": "",
     "evalue": "",
     "output_type": "error",
     "traceback": [
      "\u001b[1;31mRunning cells with 'Python 2.7.1 64-bit' requires ipykernel package.\n",
      "Run the following command to install 'ipykernel' into the Python environment. \n",
      "Command: 'd:/Python27/python.exe -m pip install ipykernel -U --user --force-reinstall'"
     ]
    }
   ],
   "source": [
    "################################################################################################\n",
    "\n",
    "# Defining arrays for state, path and velocity\n",
    "state = []\n",
    "x = []\n",
    "y = []\n",
    "v = []              \n",
    "\n",
    "steer = simulator.x0['delta']\t\n",
    "# Start the control loop\n",
    "for k in range(N_ref):\n",
    "    print('\\n\\n############    ' + str(k) + '    ############\\n\\n')\t\t\n",
    "\n",
    "    u0 = mpc.make_step(x_0)    # Determine optimal control inputs using the inital state given\n",
    "\n",
    "    # publish the steering angle and acceleration and brake values \n",
    "    if u0[0][0]>=0:\n",
    "        acc_pub.publish(u0[0][0]/6)\n",
    "    else:\n",
    "        force = u0[0][0] * m\n",
    "        torque = - force / 3\n",
    "        brake_pub.publish(torque)\n",
    "\n",
    "    steer += u0[1][0] * t_s\n",
    "    steer_pub.publish(steer*17)\n",
    "    gear_pub.publish(0)\n",
    "\n",
    "    y_next = simulator.make_step(u0)\t\t\t\t\t# Simulate the next step using the control inputs\n",
    "    x_0 = estimator.make_step(y_next)\t\t\t\t\t# estimate the next state"
   ]
  },
  {
   "cell_type": "markdown",
   "id": "b36d2453",
   "metadata": {},
   "source": [
    "##### Displaying Results"
   ]
  },
  {
   "cell_type": "code",
   "execution_count": null,
   "id": "78c6efb1",
   "metadata": {},
   "outputs": [
    {
     "ename": "KeyError",
     "evalue": "'store_full_solution'",
     "output_type": "error",
     "traceback": [
      "\u001b[1;31m---------------------------------------------------------------------------\u001b[0m",
      "\u001b[1;31mKeyError\u001b[0m                                  Traceback (most recent call last)",
      "\u001b[1;32mc:\\Users\\Yoru\\Documents\\GitHub\\igvc_2022\\controller_ws\\src\\nmpc\\src\\control_node2.ipynb Cell 30'\u001b[0m in \u001b[0;36m<cell line: 3>\u001b[1;34m()\u001b[0m\n\u001b[0;32m      <a href='vscode-notebook-cell:/c%3A/Users/Yoru/Documents/GitHub/igvc_2022/controller_ws/src/nmpc/src/control_node2.ipynb#ch0000029?line=0'>1</a>\u001b[0m rcParams[\u001b[39m'\u001b[39m\u001b[39maxes.grid\u001b[39m\u001b[39m'\u001b[39m] \u001b[39m=\u001b[39m \u001b[39mTrue\u001b[39;00m\n\u001b[0;32m      <a href='vscode-notebook-cell:/c%3A/Users/Yoru/Documents/GitHub/igvc_2022/controller_ws/src/nmpc/src/control_node2.ipynb#ch0000029?line=1'>2</a>\u001b[0m rcParams[\u001b[39m'\u001b[39m\u001b[39mfont.size\u001b[39m\u001b[39m'\u001b[39m] \u001b[39m=\u001b[39m \u001b[39m18\u001b[39m\n\u001b[1;32m----> <a href='vscode-notebook-cell:/c%3A/Users/Yoru/Documents/GitHub/igvc_2022/controller_ws/src/nmpc/src/control_node2.ipynb#ch0000029?line=2'>3</a>\u001b[0m fig, ax, graphics \u001b[39m=\u001b[39m do_mpc\u001b[39m.\u001b[39;49mgraphics\u001b[39m.\u001b[39;49mdefault_plot(mpc\u001b[39m.\u001b[39;49mdata, figsize\u001b[39m=\u001b[39;49m(\u001b[39m16\u001b[39;49m,\u001b[39m9\u001b[39;49m))\n\u001b[0;32m      <a href='vscode-notebook-cell:/c%3A/Users/Yoru/Documents/GitHub/igvc_2022/controller_ws/src/nmpc/src/control_node2.ipynb#ch0000029?line=3'>4</a>\u001b[0m graphics\u001b[39m.\u001b[39mplot_results()\n\u001b[0;32m      <a href='vscode-notebook-cell:/c%3A/Users/Yoru/Documents/GitHub/igvc_2022/controller_ws/src/nmpc/src/control_node2.ipynb#ch0000029?line=4'>5</a>\u001b[0m graphics\u001b[39m.\u001b[39mreset_axes()\n",
      "File \u001b[1;32mc:\\Users\\Yoru\\Documents\\GitHub\\igvc_2022\\controller_ws\\src\\nmpc\\src\\do_mpc\\graphics.py:433\u001b[0m, in \u001b[0;36mdefault_plot\u001b[1;34m(data, states_list, inputs_list, aux_list, **kwargs)\u001b[0m\n\u001b[0;32m    <a href='file:///c%3A/Users/Yoru/Documents/GitHub/igvc_2022/controller_ws/src/nmpc/src/do_mpc/graphics.py?line=430'>431</a>\u001b[0m \u001b[39m# Add lines/ labels for states:\u001b[39;00m\n\u001b[0;32m    <a href='file:///c%3A/Users/Yoru/Documents/GitHub/igvc_2022/controller_ws/src/nmpc/src/do_mpc/graphics.py?line=431'>432</a>\u001b[0m \u001b[39mfor\u001b[39;00m i, x_i \u001b[39min\u001b[39;00m \u001b[39menumerate\u001b[39m(states_list):\n\u001b[1;32m--> <a href='file:///c%3A/Users/Yoru/Documents/GitHub/igvc_2022/controller_ws/src/nmpc/src/do_mpc/graphics.py?line=432'>433</a>\u001b[0m     graphics\u001b[39m.\u001b[39;49madd_line(\u001b[39m'\u001b[39;49m\u001b[39m_x\u001b[39;49m\u001b[39m'\u001b[39;49m, x_i, ax[i])\n\u001b[0;32m    <a href='file:///c%3A/Users/Yoru/Documents/GitHub/igvc_2022/controller_ws/src/nmpc/src/do_mpc/graphics.py?line=433'>434</a>\u001b[0m     ax[i]\u001b[39m.\u001b[39mset_ylabel(x_i)\n\u001b[0;32m    <a href='file:///c%3A/Users/Yoru/Documents/GitHub/igvc_2022/controller_ws/src/nmpc/src/do_mpc/graphics.py?line=434'>435</a>\u001b[0m \u001b[39m# Add lines/ labels for inputs:\u001b[39;00m\n",
      "File \u001b[1;32mc:\\Users\\Yoru\\Documents\\GitHub\\igvc_2022\\controller_ws\\src\\nmpc\\src\\do_mpc\\graphics.py:279\u001b[0m, in \u001b[0;36mGraphics.add_line\u001b[1;34m(self, var_type, var_name, axis, **pltkwargs)\u001b[0m\n\u001b[0;32m    <a href='file:///c%3A/Users/Yoru/Documents/GitHub/igvc_2022/controller_ws/src/nmpc/src/do_mpc/graphics.py?line=274'>275</a>\u001b[0m     pltkwargs\u001b[39m.\u001b[39mupdate(drawstyle\u001b[39m=\u001b[39m\u001b[39m'\u001b[39m\u001b[39msteps\u001b[39m\u001b[39m'\u001b[39m)\n\u001b[0;32m    <a href='file:///c%3A/Users/Yoru/Documents/GitHub/igvc_2022/controller_ws/src/nmpc/src/do_mpc/graphics.py?line=276'>277</a>\u001b[0m \u001b[39mself\u001b[39m\u001b[39m.\u001b[39mresult_lines[var_type, var_name] \u001b[39m=\u001b[39m axis\u001b[39m.\u001b[39mplot(\u001b[39mself\u001b[39m\u001b[39m.\u001b[39mdata[\u001b[39m'\u001b[39m\u001b[39m_time\u001b[39m\u001b[39m'\u001b[39m] , \u001b[39mself\u001b[39m\u001b[39m.\u001b[39mdata[var_type, var_name], \u001b[39m*\u001b[39m\u001b[39m*\u001b[39mpltkwargs)\n\u001b[1;32m--> <a href='file:///c%3A/Users/Yoru/Documents/GitHub/igvc_2022/controller_ws/src/nmpc/src/do_mpc/graphics.py?line=278'>279</a>\u001b[0m \u001b[39mif\u001b[39;00m \u001b[39mself\u001b[39m\u001b[39m.\u001b[39mdata\u001b[39m.\u001b[39mdtype \u001b[39m==\u001b[39m \u001b[39m'\u001b[39m\u001b[39mMPC\u001b[39m\u001b[39m'\u001b[39m \u001b[39mand\u001b[39;00m \u001b[39mself\u001b[39;49m\u001b[39m.\u001b[39;49mdata\u001b[39m.\u001b[39;49mmeta_data[\u001b[39m'\u001b[39;49m\u001b[39mstore_full_solution\u001b[39;49m\u001b[39m'\u001b[39;49m]:\n\u001b[0;32m    <a href='file:///c%3A/Users/Yoru/Documents/GitHub/igvc_2022/controller_ws/src/nmpc/src/do_mpc/graphics.py?line=279'>280</a>\u001b[0m     \u001b[39m# y_data has shape (n_elem, n_horizon, n_scenario), where n_elem = 1 for scalars and >1 for vectors\u001b[39;00m\n\u001b[0;32m    <a href='file:///c%3A/Users/Yoru/Documents/GitHub/igvc_2022/controller_ws/src/nmpc/src/do_mpc/graphics.py?line=280'>281</a>\u001b[0m     y_data \u001b[39m=\u001b[39m \u001b[39mself\u001b[39m\u001b[39m.\u001b[39mdata\u001b[39m.\u001b[39mprediction((var_type, var_name))\n\u001b[0;32m    <a href='file:///c%3A/Users/Yoru/Documents/GitHub/igvc_2022/controller_ws/src/nmpc/src/do_mpc/graphics.py?line=281'>282</a>\u001b[0m     x_data \u001b[39m=\u001b[39m np\u001b[39m.\u001b[39mzeros(y_data\u001b[39m.\u001b[39mshape[\u001b[39m1\u001b[39m])\n",
      "\u001b[1;31mKeyError\u001b[0m: 'store_full_solution'"
     ]
    },
    {
     "data": {
      "image/png": "[encoded data removed]",
      "text/plain": [
       "<Figure size 1152x648 with 10 Axes>"
      ]
     },
     "metadata": {
      "needs_background": "light"
     },
     "output_type": "display_data"
    },
    {
     "ename": "",
     "evalue": "",
     "output_type": "error",
     "traceback": [
      "\u001b[1;31mRunning cells with 'Python 2.7.1 64-bit' requires ipykernel package.\n",
      "Run the following command to install 'ipykernel' into the Python environment. \n",
      "Command: 'd:/Python27/python.exe -m pip install ipykernel -U --user --force-reinstall'"
     ]
    }
   ],
   "source": [
    "rcParams['axes.grid'] = True\n",
    "rcParams['font.size'] = 18\n",
    "fig, ax, graphics = do_mpc.graphics.default_plot(mpc.data, figsize=(16,9))\n",
    "graphics.plot_results()\n",
    "graphics.reset_axes()\n",
    "plt.show()"
   ]
  },
  {
   "cell_type": "markdown",
   "id": "e2763524",
   "metadata": {},
   "source": [
    "##### Path Callback Function"
   ]
  },
  {
   "cell_type": "code",
   "execution_count": null,
   "id": "fc3ecb78",
   "metadata": {},
   "outputs": [
    {
     "ename": "",
     "evalue": "",
     "output_type": "error",
     "traceback": [
      "\u001b[1;31mRunning cells with 'Python 2.7.1 64-bit' requires ipykernel package.\n",
      "Run the following command to install 'ipykernel' into the Python environment. \n",
      "Command: 'd:/Python27/python.exe -m pip install ipykernel -U --user --force-reinstall'"
     ]
    }
   ],
   "source": [
    "def path_callback(path):\n",
    "\n",
    "    path_repeat = False\n",
    "    \n",
    "    ##################################\n",
    "    # Step1 - Obtaining the path points\n",
    "    ##################################\n",
    "    \n",
    "    l = len(path.poses)                # length of the path\n",
    "    points = np.zeros((l,2))           # array for storing the path points\n",
    "    if not path_repeat:    \n",
    "        for j in range(l):\n",
    "            points[j][0] = path.poses[j].pose.position.y\n",
    "            points[j][1] = path.poses[j].pose.position.x\n",
    "            path_points.append([path.poses[j].pose.position.y, path.poses[j].pose.position.x])\n",
    "\n",
    "\n",
    "    ###########################\n",
    "    # Step2 - Interplotate\n",
    "    ###########################\n",
    "\n",
    "\n",
    "    lin_val_x(points[:,1])\n",
    "    lin_val_y(points[:,0])\n",
    "\n",
    "    \n",
    "    u0 = mpc.make_step(x_0)    # Determine optimal control inputs using the inital state given\n",
    "\n",
    "    # publish the steering angle and acceleration and brake values \n",
    "    if u0[0][0]>=0:\n",
    "        acc_pub.publish(u0[0][0]/6)\n",
    "    else:\n",
    "        force = u0[0][0] * m\n",
    "        torque = -0.32 * force\n",
    "        brake_pub.publish(torque)\n",
    "\n",
    "    steer += u0[1][0] * t_s\n",
    "    steer_pub.publish(steer*17)\n",
    "    gear_pub.publish(0)\n",
    "\n",
    "    y_n = simulator.make_step(u0)\t\t\t\t\t# Simulate the next step using the control inputs\n",
    "    x_0 = estimator.make_step(y_n)\t\t\t    # estimate the next state\n",
    "\n",
    "    z_sim = y_n[5]"
   ]
  },
  {
   "cell_type": "markdown",
   "id": "4e46c538",
   "metadata": {},
   "source": [
    "##### State Callback function"
   ]
  },
  {
   "cell_type": "code",
   "execution_count": null,
   "id": "3c175b0d",
   "metadata": {},
   "outputs": [
    {
     "ename": "",
     "evalue": "",
     "output_type": "error",
     "traceback": [
      "\u001b[1;31mRunning cells with 'Python 2.7.1 64-bit' requires ipykernel package.\n",
      "Run the following command to install 'ipykernel' into the Python environment. \n",
      "Command: 'd:/Python27/python.exe -m pip install ipykernel -U --user --force-reinstall'"
     ]
    }
   ],
   "source": [
    "def state_callback(state):\n",
    "    # get the state \n",
    "    # update the class variable for curent state value\n",
    "    \n",
    "    ######################################\n",
    "    # Step1 - Obtaining the state vector\n",
    "    ######################################\n",
    "\n",
    "    pose_arr = []\n",
    "    twist_arr = [] \n",
    "\n",
    "    pose_arr.append(state.pose[-1].position.x)\n",
    "    pose_arr.append(state.pose[-1].position.y)\n",
    "\n",
    "    twist_arr.append(state.twist[-1].linear.x)\n",
    "    twist_arr.append(state.twist[-1].linear.y)\n",
    "    twist_arr.append(state.twist[-1].angular.z)\n",
    "\n",
    "    ####################################\n",
    "    # Step2 - Update the function handles\n",
    "    ####################################\n",
    "\n",
    "    x_0 = np.vstack((  \n",
    "        [pose_arr[0]],\n",
    "        [pose_arr[1]],\n",
    "        [float(np.sqrt(twist_arr[0]**2 + twist_arr[1]**2))],\n",
    "        [float(np.arctan(twist_arr[1]/(twist_arr[0]+(1e-50))))],\n",
    "        [float(twist_arr[2])],\n",
    "        [self.steer],\n",
    "        [self.z_sim]\n",
    "        ))"
   ]
  },
  {
   "cell_type": "markdown",
   "id": "a64259eb",
   "metadata": {},
   "source": [
    "##### Velocity Callback Function"
   ]
  },
  {
   "cell_type": "code",
   "execution_count": null,
   "id": "322abb63",
   "metadata": {},
   "outputs": [
    {
     "ename": "",
     "evalue": "",
     "output_type": "error",
     "traceback": [
      "\u001b[1;31mRunning cells with 'Python 2.7.1 64-bit' requires ipykernel package.\n",
      "Run the following command to install 'ipykernel' into the Python environment. \n",
      "Command: 'd:/Python27/python.exe -m pip install ipykernel -U --user --force-reinstall'"
     ]
    }
   ],
   "source": [
    "def vel_callback(vel_arr):\n",
    "\n",
    "\tvelocities.append(vel_arr.data[0])\n",
    "\t\n",
    "\t######################################\n",
    "\t# Step1 - Obtaining the velocity points\n",
    "\t######################################\n",
    "\n",
    "\tl = len(vel_arr.data)\n",
    "\tvel = np.zeros((l, 1))\n",
    "\tfor i in range(l):\n",
    "\t\tvel[i][0] = vel_arr.data[i] \n",
    "\n",
    "\t###########################\n",
    "\t# Step2 - Interplotate\n",
    "\t###########################\n",
    "\n",
    "\t# interpolation using the indices as the variable.\n",
    "\tlin_val_v(vel)\n",
    "\n",
    "\t####################################\n",
    "\t# Step3 - Update the function handles\n",
    "\t####################################\n",
    "\n",
    "\tset_vel(v_z)"
   ]
  },
  {
   "cell_type": "markdown",
   "id": "4a66e345",
   "metadata": {},
   "source": [
    "##### Steer Callback Function"
   ]
  },
  {
   "cell_type": "code",
   "execution_count": null,
   "id": "4dd9820a",
   "metadata": {},
   "outputs": [
    {
     "ename": "",
     "evalue": "",
     "output_type": "error",
     "traceback": [
      "\u001b[1;31mRunning cells with 'Python 2.7.1 64-bit' requires ipykernel package.\n",
      "Run the following command to install 'ipykernel' into the Python environment. \n",
      "Command: 'd:/Python27/python.exe -m pip install ipykernel -U --user --force-reinstall'"
     ]
    }
   ],
   "source": [
    "def steer_callback(steer):\n",
    "    # get the state \n",
    "    # update the class variable for curent state value\n",
    "\n",
    "    ####################################\n",
    "    # Step1 - Update the function handles\n",
    "    ####################################\n",
    "\n",
    "    steer_0 = steer"
   ]
  },
  {
   "cell_type": "markdown",
   "id": "d36ab6b7",
   "metadata": {},
   "source": [
    "##### Running the entire Model"
   ]
  },
  {
   "cell_type": "code",
   "execution_count": null,
   "id": "d54d40c2",
   "metadata": {},
   "outputs": [
    {
     "ename": "",
     "evalue": "",
     "output_type": "error",
     "traceback": [
      "\u001b[1;31mRunning cells with 'Python 2.7.1 64-bit' requires ipykernel package.\n",
      "Run the following command to install 'ipykernel' into the Python environment. \n",
      "Command: 'd:/Python27/python.exe -m pip install ipykernel -U --user --force-reinstall'"
     ]
    }
   ],
   "source": [
    "# run the control loop\n",
    "rospy.spin()"
   ]
  }
 ],
 "metadata": {
  "interpreter": {
   "hash": "01399959c72fd9aa7dc433ad23a79357d9a1acc65a5c86425c80d279a9875ba8"
  },
  "jupytext": {
   "formats": "ipynb,py"
  },
  "kernelspec": {
   "display_name": "Python 3.8.6 64-bit",
   "language": "python",
   "name": "python3"
  },
  "language_info": {
   "codemirror_mode": {
    "name": "ipython",
    "version": 3
   },
   "file_extension": ".py",
   "mimetype": "text/x-python",
   "name": "python",
   "nbconvert_exporter": "python",
   "pygments_lexer": "ipython3",
   "version": "3.8.6"
  }
 },
 "nbformat": 4,
 "nbformat_minor": 5
}
